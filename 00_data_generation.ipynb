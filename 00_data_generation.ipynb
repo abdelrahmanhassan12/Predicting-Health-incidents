{
 "cells": [
  {
   "cell_type": "markdown",
   "id": "da1f8163",
   "metadata": {},
   "source": [
    "# Data Generation for ALF Risk Prediction\n",
    "\n",
    "This notebook generates synthetic daily health data for residents in assisted living facilities (ALFs)."
   ]
  },
  {
   "cell_type": "code",
   "execution_count": null,
   "id": "ecc2327c",
   "metadata": {},
   "outputs": [],
   "source": [
    "import pandas as pd\n",
    "import numpy as np\n",
    "import random\n",
    "from datetime import datetime, timedelta\n",
    "\n",
    "# Set random seed\n",
    "np.random.seed(42)\n",
    "\n",
    "# Parameters\n",
    "n_patients = 200\n",
    "n_days = 30\n",
    "facilities = ['F001', 'F002', 'F003']\n",
    "diagnoses = ['diabetes', 'dementia', 'hypertension', 'COPD', 'arthritis']\n",
    "genders = ['Male', 'Female']\n",
    "\n",
    "# Generate synthetic data\n",
    "data = []\n",
    "for pid in range(1, n_patients + 1):\n",
    "    facility_id = random.choice(facilities)\n",
    "    age = np.random.randint(65, 95)\n",
    "    gender = random.choice(genders)\n",
    "    diagnosis = random.choice(diagnoses)\n",
    "\n",
    "    for day_offset in range(n_days):\n",
    "        date = datetime(2025, 6, 1) + timedelta(days=day_offset)\n",
    "        heart_rate = np.random.normal(75, 10)\n",
    "        bp_sys = np.random.normal(130, 15)\n",
    "        bp_dia = np.random.normal(80, 10)\n",
    "        temperature = np.random.normal(36.8, 0.5)\n",
    "        med_adherence = np.clip(np.random.beta(5, 2), 0, 1)\n",
    "        incident_next_day = int(np.random.rand() < 0.05 if med_adherence > 0.8 else np.random.rand() < 0.15)\n",
    "\n",
    "        data.append([\n",
    "            f\"P{pid:04d}\", facility_id, date.strftime('%Y-%m-%d'), age, gender, diagnosis,\n",
    "            heart_rate, bp_sys, bp_dia, temperature, med_adherence, incident_next_day\n",
    "        ])\n",
    "\n",
    "# Create DataFrame\n",
    "df = pd.DataFrame(data, columns=[\n",
    "    'patient_id', 'facility_id', 'date', 'age', 'gender', 'diagnosis',\n",
    "    'heart_rate', 'blood_pressure_sys', 'blood_pressure_dia', 'temperature',\n",
    "    'med_adherence', 'incident_next_day'\n",
    "])\n",
    "\n",
    "# Save dataset\n",
    "df.to_csv('../data/synthetic_alf_data.csv', index=False)\n",
    "df.head()"
   ]
  },
  {
   "cell_type": "markdown",
   "id": "9f9020d1",
   "metadata": {},
   "source": [
    "✅ Dataset has been generated and saved to `../data/synthetic_alf_data.csv`."
   ]
  }
 ],
 "metadata": {},
 "nbformat": 4,
 "nbformat_minor": 5
}
