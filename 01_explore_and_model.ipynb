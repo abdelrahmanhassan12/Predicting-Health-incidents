{
 "cells": [
  {
   "cell_type": "markdown",
   "id": "ed32664f",
   "metadata": {},
   "source": [
    "# ALF Risk Prediction: EDA & Modeling\n",
    "\n",
    "This notebook explores the synthetic ALF resident data and trains a model to predict next-day health incidents."
   ]
  },
  {
   "cell_type": "code",
   "execution_count": null,
   "id": "525755f4",
   "metadata": {},
   "outputs": [],
   "source": [
    "import pandas as pd\n",
    "import numpy as np\n",
    "import matplotlib.pyplot as plt\n",
    "import seaborn as sns\n",
    "\n",
    "from sklearn.model_selection import train_test_split\n",
    "from sklearn.ensemble import RandomForestClassifier\n",
    "from sklearn.preprocessing import StandardScaler\n",
    "from sklearn.metrics import classification_report, roc_auc_score\n",
    "\n",
    "# Load data\n",
    "df = pd.read_csv('../synthetic_alf_data.csv')\n",
    "df['date'] = pd.to_datetime(df['date'])\n",
    "df.head()\n"
   ]
  },
  {
   "cell_type": "markdown",
   "id": "2d239645",
   "metadata": {},
   "source": [
    "## Basic Data Exploration"
   ]
  },
  {
   "cell_type": "code",
   "execution_count": null,
   "id": "fb942248",
   "metadata": {},
   "outputs": [],
   "source": [
    "df.info()\n",
    "df.describe()\n",
    "df['incident_next_day'].value_counts(normalize=True)"
   ]
  },
  {
   "cell_type": "markdown",
   "id": "dec65fa8",
   "metadata": {},
   "source": [
    "## Feature Engineering"
   ]
  },
  {
   "cell_type": "code",
   "execution_count": null,
   "id": "ce8b692d",
   "metadata": {},
   "outputs": [],
   "source": [
    "# Recreate vital sign deltas\n",
    "df = df.sort_values(by=['patient_id', 'date'])\n",
    "df['heart_rate_diff'] = df.groupby('patient_id')['heart_rate'].diff().fillna(0)\n",
    "df['bp_sys_diff'] = df.groupby('patient_id')['blood_pressure_sys'].diff().fillna(0)\n",
    "df['bp_dia_diff'] = df.groupby('patient_id')['blood_pressure_dia'].diff().fillna(0)\n",
    "\n",
    "# One-hot encode categorical\n",
    "df['age_group'] = pd.cut(df['age'], bins=[60, 70, 80, 90, 100], labels=['60s', '70s', '80s', '90s'])\n",
    "df = pd.get_dummies(df, columns=['gender', 'diagnosis', 'age_group', 'facility_id'], drop_first=True)\n"
   ]
  },
  {
   "cell_type": "markdown",
   "id": "50f0f430",
   "metadata": {},
   "source": [
    "## Train/Test Split"
   ]
  },
  {
   "cell_type": "code",
   "execution_count": null,
   "id": "942aab4e",
   "metadata": {},
   "outputs": [],
   "source": [
    "unique_patients = df['patient_id'].unique()\n",
    "train_p, test_p = train_test_split(unique_patients, test_size=0.2, random_state=42)\n",
    "train_df = df[df['patient_id'].isin(train_p)]\n",
    "test_df = df[df['patient_id'].isin(test_p)]\n",
    "\n",
    "X_train = train_df.drop(columns=['patient_id', 'date', 'incident_next_day'])\n",
    "y_train = train_df['incident_next_day']\n",
    "X_test = test_df.drop(columns=['patient_id', 'date', 'incident_next_day'])\n",
    "y_test = test_df['incident_next_day']\n",
    "\n",
    "scaler = StandardScaler()\n",
    "X_train_scaled = scaler.fit_transform(X_train)\n",
    "X_test_scaled = scaler.transform(X_test)"
   ]
  },
  {
   "cell_type": "markdown",
   "id": "11fd7110",
   "metadata": {},
   "source": [
    "## Modeling"
   ]
  },
  {
   "cell_type": "code",
   "execution_count": null,
   "id": "4ed63a1a",
   "metadata": {},
   "outputs": [],
   "source": [
    "model = RandomForestClassifier(n_estimators=100, class_weight='balanced', random_state=42)\n",
    "model.fit(X_train_scaled, y_train)\n",
    "\n",
    "y_pred = model.predict(X_test_scaled)\n",
    "y_proba = model.predict_proba(X_test_scaled)[:, 1]\n",
    "\n",
    "print(classification_report(y_test, y_pred))\n",
    "print(\"ROC AUC Score:\", roc_auc_score(y_test, y_proba))"
   ]
  },
  {
   "cell_type": "markdown",
   "id": "19d26bb4",
   "metadata": {},
   "source": [
    "## Feature Importance"
   ]
  },
  {
   "cell_type": "code",
   "execution_count": null,
   "id": "2d30eb38",
   "metadata": {},
   "outputs": [],
   "source": [
    "importances = model.feature_importances_\n",
    "features = X_train.columns\n",
    "fi_df = pd.DataFrame({'feature': features, 'importance': importances}).sort_values('importance', ascending=False)\n",
    "\n",
    "plt.figure(figsize=(10, 6))\n",
    "sns.barplot(data=fi_df.head(10), x='importance', y='feature')\n",
    "plt.title(\"Top 10 Feature Importances\")\n",
    "plt.tight_layout()\n",
    "plt.show()"
   ]
  }
 ],
 "metadata": {},
 "nbformat": 4,
 "nbformat_minor": 5
}
